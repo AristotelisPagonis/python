{
  "nbformat": 4,
  "nbformat_minor": 0,
  "metadata": {
    "colab": {
      "provenance": []
    },
    "kernelspec": {
      "name": "python3",
      "display_name": "Python 3"
    },
    "language_info": {
      "name": "python"
    }
  },
  "cells": [
    {
      "cell_type": "markdown",
      "source": [
        "## Άσκηση 1\n",
        "\n",
        "Δημιουργήστε τις παρακάτω μεταβλητές:\n",
        "- όνομα\n",
        "- επώνυμο\n",
        "- αριθμός μητρώου\n",
        "- μάθημα 1\n",
        "- μάθημα 2\n",
        "- μάθημα 3\n",
        "- βαθμός μαθήματος 1\n",
        "- βαθμός μαθήματος 2\n",
        "- βαθμός μαθήματος 3\n",
        "\n",
        "Σε κάθε μεταβλητή δώστε το κατάλληλο όνομα (με αγγλικούς χαρακτήρες) και την αντίστοιχη τιμή, με το σωστό τύπο δεδομένων (string / integer).\n",
        "\n",
        "Τυπώστε στην οθόνη (print) τις τιμές όλων των μεταβλητών που ορίσατε.\n",
        "\n",
        "**Hints**:\n",
        "- όπου η τιμή είναι αριθμός, σκεφτείτε αν θα χρησιμοποιήσετε stirng ή integer, ανάλογα με το αν χρειάζεται να κάνετε αργότερα αριθμητικές πράξεις\n",
        "- χρησιμοποιήστε ονόματα μεταβλητών που να έχουν νόημα\n",
        "- εάν γράψετε όλες τις εντολές σε ένα κελί, όταν φτάσετε στο τέλος στο σημείο να γράψετε την εντολή `print`, το colab θα σας προτείνει να γράψετε μέσα στις παρενθέσεις όλες τις μεταβλητές. Πατήστε `tab` για να αποδεχτείτε την πρόταση που σας κάνει."
      ],
      "metadata": {
        "id": "JZISjhuEQFOB"
      }
    },
    {
      "cell_type": "code",
      "execution_count": null,
      "metadata": {
        "id": "cRnQhimEPhY0",
        "outputId": "0372f2c8-96fc-48d5-da32-9678a0bae701",
        "colab": {
          "base_uri": "https://localhost:8080/"
        }
      },
      "outputs": [
        {
          "output_type": "stream",
          "name": "stdout",
          "text": [
            "Aristotelis Pagonis 9983202000100 fysikh mathimatika istoria 7 8 5\n"
          ]
        }
      ],
      "source": [
        "name = \"Aristotelis\"\n",
        "lastName = \"Pagonis\"\n",
        "arithmos_mitrwou = \"9983202000100\"\n",
        "mathima_1 = \"fysikh\"\n",
        "mathima_2 = \"mathimatika\"\n",
        "mathima_3 = \"istoria\"\n",
        "vathmos_mathima_1 = 7\n",
        "vathmos_mathima_2 = 8\n",
        "vathmos_mathima_3 = 5\n",
        "print(name, lastName, arithmos_mitrwou, mathima_1, mathima_2, mathima_3, vathmos_mathima_1, vathmos_mathima_2, vathmos_mathima_3)"
      ]
    },
    {
      "cell_type": "markdown",
      "source": [
        "## Άσκηση 2\n",
        "\n",
        "Υπολογίστε το μέσο όρο των βαθμών των 3 μαθημάτων, αποθηκεύστε τον σε μια μεταβλητή και τυπώστε την τιμή της μεταβλητής του μέσου όρου στην οθόνη.\n",
        "\n",
        "**Hints**:\n",
        "- ο μέσος όρος υπολογίζεται με τη φόρμουλα: <άθροισμα επιμέρους τιμών> δια <πλήθος τιμών>\n",
        "- για τον υπολογισμό του αθροίσματος των επιμέρους τιμών χρησιμοποιήστε τα ονόματα των μεταβλητών των επιμέρους τιμών και όχι τις τιμές τους"
      ],
      "metadata": {
        "id": "uPD0W-qcWcfV"
      }
    },
    {
      "cell_type": "code",
      "source": [
        "sinolo_vathmwn = vathmos_mathima_1 + vathmos_mathima_2 + vathmos_mathima_3\n",
        "print (\"vathmos_mathima_1 + vathmos_mathima_2 + vathmos_mathima_3 =\", sinolo_vathmwn)\n",
        "mesos_oros = sinolo_vathmwn / 3\n",
        "print (\"mesos_oros =\", mesos_oros)"
      ],
      "metadata": {
        "id": "Z0OnhXMURzMR",
        "outputId": "31661df4-50f3-44c9-b717-b0f1c332901e",
        "colab": {
          "base_uri": "https://localhost:8080/"
        }
      },
      "execution_count": null,
      "outputs": [
        {
          "output_type": "stream",
          "name": "stdout",
          "text": [
            "vathmos_mathima_1 + vathmos_mathima_2 + vathmos_mathima_3 = 20\n",
            "mesos_oros = 6.666666666666667\n"
          ]
        }
      ]
    },
    {
      "cell_type": "code",
      "source": [],
      "metadata": {
        "id": "7pSmLNnP6adw"
      },
      "execution_count": null,
      "outputs": []
    },
    {
      "cell_type": "markdown",
      "source": [
        "Τυπώστε στην οθόνη τον τύπο δεδομένων της μεταβλητής του μέσου όρου."
      ],
      "metadata": {
        "id": "3lDi2k3iYoWe"
      }
    },
    {
      "cell_type": "code",
      "source": [
        "print(type(mesos_oros))"
      ],
      "metadata": {
        "id": "ET5xvgxTZAJb",
        "outputId": "f50cca6c-9784-47c8-8919-e1c4b6292eb7",
        "colab": {
          "base_uri": "https://localhost:8080/"
        }
      },
      "execution_count": null,
      "outputs": [
        {
          "output_type": "stream",
          "name": "stdout",
          "text": [
            "<class 'float'>\n"
          ]
        }
      ]
    },
    {
      "cell_type": "markdown",
      "source": [
        "Μετατρέψτε το μέσο όρο σε ακέραιο (integer) και τυπώστε το αποτέλεσμα στην οθόνη."
      ],
      "metadata": {
        "id": "y-QK_9DmZHAF"
      }
    },
    {
      "cell_type": "code",
      "source": [
        "print(mesos_oros)\n",
        "print(int(mesos_oros))"
      ],
      "metadata": {
        "id": "VV13wQMoR69T",
        "outputId": "b34dc0d4-e360-43a1-ba33-970d7de405af",
        "colab": {
          "base_uri": "https://localhost:8080/"
        }
      },
      "execution_count": null,
      "outputs": [
        {
          "output_type": "stream",
          "name": "stdout",
          "text": [
            "6.666666666666667\n",
            "6\n"
          ]
        }
      ]
    },
    {
      "cell_type": "markdown",
      "source": [
        "## Άσκηση 3\n",
        "\n",
        "Δημιουργήστε ένα νέο κελί κώδικα.\n",
        "\n",
        "Μέσα στο κελί γράφει: Start coding or generate with AI. Πατήστε τη λέξη generate.\n",
        "\n",
        "Στο κελί Generate που εμφανίζεται γράψτε ένα prompt με το οποίο να του ζητάτε να αλλάξει τη μεταβλητή grade1 σε 5 και να ξαναϋπολογίσει και να τυπώσει τον μέσο όρο."
      ],
      "metadata": {
        "id": "1dhIvNXCecFf"
      }
    },
    {
      "cell_type": "code",
      "source": [
        "# prompt: change vathmos_mathima_1 to a 5 and calculate and print mesos_oros\n",
        "\n",
        "vathmos_mathima_1 = 5\n",
        "sinolo_vathmwn = vathmos_mathima_1 + vathmos_mathima_2 + vathmos_mathima_3\n",
        "mesos_oros = sinolo_vathmwn / 3\n",
        "print(\"mesos_oros =\", mesos_oros)\n"
      ],
      "metadata": {
        "id": "Qqvc9WWYVLYH",
        "outputId": "9b0f64c7-d894-4736-a98b-37cf3aefe80f",
        "colab": {
          "base_uri": "https://localhost:8080/"
        }
      },
      "execution_count": null,
      "outputs": [
        {
          "output_type": "stream",
          "name": "stdout",
          "text": [
            "mesos_oros = 6.0\n"
          ]
        }
      ]
    },
    {
      "cell_type": "markdown",
      "source": [
        "## Άσκηση 4\n",
        "\n",
        "Φτιάξτε μια λίστα με όνομα actorsL και βάλτε μέσα στη λίστα τα ονοματεπώνυμα 3 αγαπημένων σας ηθοποιών.\n",
        "\n",
        "Χρησιμοποιώντας το index, τυπώστε στην οθόνη:\n",
        "- το 2ο ονοματεπώνυμο της λίστας\n",
        "- το τελευταίο ονοματεπώνυμο της λίστας\n",
        "- τα 2 πρώτα ονοματεπώνυμα"
      ],
      "metadata": {
        "id": "_BaLrQrqV3jw"
      }
    },
    {
      "cell_type": "code",
      "source": [
        "actorsL = [\"RyanGosling\", \"Henry Cavill\", \"Kevin Hart\"]\n",
        "print(actorsL[1])\n",
        "print(actorsL[-1])\n",
        "print(actorsL[0:2])"
      ],
      "metadata": {
        "id": "J8U-TfzMXVkx",
        "outputId": "505c79d8-b1bb-4be3-8f60-9c52612c47a8",
        "colab": {
          "base_uri": "https://localhost:8080/"
        }
      },
      "execution_count": null,
      "outputs": [
        {
          "output_type": "stream",
          "name": "stdout",
          "text": [
            "Henry Cavill\n",
            "Kevin Hart\n",
            "['RyanGosling', 'Henry Cavill']\n"
          ]
        }
      ]
    }
  ]
}