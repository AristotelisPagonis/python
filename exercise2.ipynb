{
  "nbformat": 4,
  "nbformat_minor": 0,
  "metadata": {
    "colab": {
      "provenance": []
    },
    "kernelspec": {
      "name": "python3",
      "display_name": "Python 3"
    },
    "language_info": {
      "name": "python"
    }
  },
  "cells": [
    {
      "cell_type": "markdown",
      "source": [
        "### **Άσκηση 1**\n",
        "\n",
        "Φτιάξτε ένα νέο κελί κώδικα (Code cell) ακριβώς κάτω από αυτό και κάνετε τα παρακάτω:\n",
        "\n",
        "- Δημιουργήστε μια κενή λίστα με όνομα usersL\n",
        "- Φτιάξτε μια μεταβλητή με όνομα email1 και τιμή ένα email\n",
        "- Βρείτε το index του \"@\" και αποθηκεύστε το σε μια μεταβλητή με όνομα at1\n",
        "- Πάρτε (slice) το τμήμα του mail που έχει μόνο το όνομα, αποθηκεύστε το σε μια μεταβλητή με όνομα user1 και βάλτε το στη λίστα usersL\n",
        "- Επαναλάβετε τα βήματα 2-4 άλλη 1 φορά (κάντε copy-paste και αλλάξτε ό,τι χρειάζεται)\n",
        "- Ταξινομήστε τα περιεχόμενα της λίστας με αύξουσα σειρά και\n",
        "- Τυπώστε τα περιεχόμενά της στην οθόνη\n",
        "\n",
        "Hints & Tips:\n",
        "\n",
        "- το index ενός χαρακτήρα σε ένα string, θα το βρείτε με τη μέθοδο .index()\n",
        "- η πρόσθεση ενός αντικειμένου σε μια λίστα γίνεται με το .append()\n",
        "- η ταξινόμηση με αύξουσα σειρά των αντικειμένων σε μια λίστα γίνεται με το .sort()\n",
        "- χρησιμοποιήστε όσα κελιά θέλετε έτσι ώστε να ελέγχετε τι κάνετε σε κάθε βήμα\n"
      ],
      "metadata": {
        "id": "ENRszEnFK9j5"
      }
    },
    {
      "cell_type": "code",
      "execution_count": 18,
      "metadata": {
        "id": "nEY0waMjK8IF",
        "outputId": "1282c485-208a-4e0b-b2dd-81055e6072ca",
        "colab": {
          "base_uri": "https://localhost:8080/"
        }
      },
      "outputs": [
        {
          "output_type": "stream",
          "name": "stdout",
          "text": [
            "['arispvg13', 'arispvg14']\n"
          ]
        }
      ],
      "source": [
        "usersL = []\n",
        "email1 = \"arispvg13@gmail.com\"\n",
        "email1.index(\"@\")\n",
        "at1 = email1.index(\"@\")\n",
        "user1 = email1[0:at1]\n",
        "usersL.append(user1)\n",
        "\n",
        "email2 = \"arispvg14@gmail.com\"\n",
        "email2.index(\"@\")\n",
        "at2 = email2.index(\"@\")\n",
        "user2 = email2[0:at2]\n",
        "usersL.append(user2)\n",
        "\n",
        "usersL.sort()\n",
        "print(usersL)\n"
      ]
    },
    {
      "cell_type": "markdown",
      "source": [
        "\n",
        "\n",
        "---\n",
        "\n"
      ],
      "metadata": {
        "id": "pyn5In2oQNo3"
      }
    },
    {
      "cell_type": "markdown",
      "source": [
        "### **Άσκηση 2**:\n",
        "\n",
        "Μια συνήθης τυποποιημένη μορφή καταγραφής της ημερομηνίας δημοσίευσης των άρθρων στα ειδησεογραφικά sites είναι η εξής: ```2025-03-04T12:07:19+02:00``` και ονομάζεται ```datetime```.\n",
        "\n",
        "- το κομμάτι ```2025-03-04``` αναφέρεται στα ```έτος-μήνας-ημέρα```\n",
        "- το ```Τ``` υποδηλώνει ότι ακολουθεί η ώρα\n",
        "- το κομμάτι ```12:07:19``` αναφέρεται στα ```ώρα:λεπτά:δευτερόλεπτα```\n",
        "- το κομμάτι ```+02:00``` αναφέρεται στη διαφορά ώρας σε σχέση με την Παγκόσμια Συντονισμένη Ώρα (UTC - Coordinated Universal Time).\n",
        "\n",
        "**Άσκηση**:\n",
        "\n",
        "Ξεκινώντας από μια μεταβλητή με όνομα dateTime και τιμή την παραπάνω ημερομηνία-ώρα (2025-03-04T12:07:19+02:00), δημιουργήστε δύο μεταβλητές με ονόματα Date και Time στις οποίες θα αποθηκεύσετε αντίστοιχα την ημερομηνία και την ώρα.\n",
        "\n",
        "Στη συνέχεια, χρησιμοποιώντας τις μεταβλητές Date και Time που φτιάξατε, δημιουργήστε μια νέα μεταβλητή με όνομα custom_datetime η τιμή της οποίας θα είναι ένα string που θα περιέχει την ημέρομηνία και την ώρα στη μορφή: \"έτος, μήνας, ημέρα, ώρα:λεπτά:δευτερόλεπτα\" και τυπώστε τη στην οθόνη.\n",
        "\n",
        "*Hints*:\n",
        "- η τιμή της μεταβλητής dateTime είναι string, άρα μπορούμε να δουλέψουμε με αυτή σαν να είναι λίστα και να απομονώσουμε κομμάτια της χρησιμοποιώντας το index του πρώτου χαρακτήρα και του επόμενου από τον τελευταίο χαρακτήρα που θέλουμε (π.χ. dateTime[firstIndex:lastIndex+1])\n",
        "- ο επόμενος από τον τελευταίο χαρακτήρα της ημερομηνίας είναι το \"Τ\"\n",
        "- ο επόμενος από τον τελευταίο χαρακτήρα της ώρας είναι το \"+\"\n",
        "- μπορούμε να βρούμε το index ενός χαρακτήρα σε ένα string με τη μέθοδο index()\n",
        "- μπορούμε να αντικαταστήσουμε έναν χαρακτήρα σε ένα string με έναν άλλο χαρακτήρα με την εντολή replace(). Π.χ. μπορούμε να αντικαταστήσουμε σε ένα string τα κόμματα με τελείες με την εντολή string1.replace(\",\", \".\")\n",
        "- μπορούμε να ενώσουμε strings με το +. Π.χ. string3 = string1 + \", \" + string2 (το \", \" παρεμβάλει ανάμεσα στα αρχικά strings ένα κόμμα ακολουθούμενο από ένα κενό)\n",
        "\n",
        "*Tips*:\n",
        "- γράψτε μία-μία τις εντολές σε διαφορετικά κελιά και τυπώνετε το αποτέλεσμα της κάθε εντολής για να ελέγχετε το τι κάνετε\n",
        "- συμβουλευτείτε / αποδεχθείτε τις προτάσεις που σας κάνει το Gemini καθώς πληκτρολογείτε τις εντολές, πατώντας Tab - κάνετε διορθώσεις όπου χρειάζεται.\n",
        "\n"
      ],
      "metadata": {
        "id": "BQA7FXLgFHKA"
      }
    },
    {
      "cell_type": "code",
      "source": [
        "datetime = \"2025-03-04T12:07:19+02:00\""
      ],
      "metadata": {
        "id": "t5EU7g4uQFAP"
      },
      "execution_count": 49,
      "outputs": []
    },
    {
      "cell_type": "code",
      "source": [
        "datetime.index(\"T\")"
      ],
      "metadata": {
        "id": "-xNqAe5SNbix",
        "outputId": "3c9e46f6-f386-427d-f224-a824a9b9eff2",
        "colab": {
          "base_uri": "https://localhost:8080/"
        }
      },
      "execution_count": 50,
      "outputs": [
        {
          "output_type": "execute_result",
          "data": {
            "text/plain": [
              "10"
            ]
          },
          "metadata": {},
          "execution_count": 50
        }
      ]
    },
    {
      "cell_type": "code",
      "source": [
        "Date = datetime[0:10]"
      ],
      "metadata": {
        "id": "UKBSGNq4N8Yd"
      },
      "execution_count": 51,
      "outputs": []
    },
    {
      "cell_type": "code",
      "source": [
        "Date"
      ],
      "metadata": {
        "id": "TNK7syPKRUP2",
        "outputId": "5c08af8a-d32c-4116-8495-e752f864700e",
        "colab": {
          "base_uri": "https://localhost:8080/",
          "height": 35
        }
      },
      "execution_count": 64,
      "outputs": [
        {
          "output_type": "execute_result",
          "data": {
            "text/plain": [
              "'2025-03-04'"
            ],
            "application/vnd.google.colaboratory.intrinsic+json": {
              "type": "string"
            }
          },
          "metadata": {},
          "execution_count": 64
        }
      ]
    },
    {
      "cell_type": "code",
      "source": [
        "Date.replace(\"-\",\",\")"
      ],
      "metadata": {
        "id": "ueCUsFPhOch6",
        "outputId": "a9d14322-7949-4176-bb73-918608dfe4de",
        "colab": {
          "base_uri": "https://localhost:8080/",
          "height": 35
        }
      },
      "execution_count": 62,
      "outputs": [
        {
          "output_type": "execute_result",
          "data": {
            "text/plain": [
              "'2025,03,04'"
            ],
            "application/vnd.google.colaboratory.intrinsic+json": {
              "type": "string"
            }
          },
          "metadata": {},
          "execution_count": 62
        }
      ]
    },
    {
      "cell_type": "code",
      "source": [
        "Date = Date.replace(\"-\",\",\")"
      ],
      "metadata": {
        "id": "2YfoeYPMRavF"
      },
      "execution_count": 65,
      "outputs": []
    },
    {
      "cell_type": "code",
      "source": [
        "Date"
      ],
      "metadata": {
        "id": "kbYr1v3_RecD",
        "outputId": "fbb5f910-d93b-4fa2-ff0c-5ee410d4c5f6",
        "colab": {
          "base_uri": "https://localhost:8080/",
          "height": 35
        }
      },
      "execution_count": 67,
      "outputs": [
        {
          "output_type": "execute_result",
          "data": {
            "text/plain": [
              "'2025,03,04'"
            ],
            "application/vnd.google.colaboratory.intrinsic+json": {
              "type": "string"
            }
          },
          "metadata": {},
          "execution_count": 67
        }
      ]
    },
    {
      "cell_type": "code",
      "source": [
        "datetime.index(\"+\")"
      ],
      "metadata": {
        "id": "kiZ2PCj0OjKv",
        "outputId": "d2d49a3b-61e9-4516-964a-4be28dcd12c8",
        "colab": {
          "base_uri": "https://localhost:8080/"
        }
      },
      "execution_count": 68,
      "outputs": [
        {
          "output_type": "execute_result",
          "data": {
            "text/plain": [
              "19"
            ]
          },
          "metadata": {},
          "execution_count": 68
        }
      ]
    },
    {
      "cell_type": "code",
      "source": [
        "Time = datetime[11:19]"
      ],
      "metadata": {
        "id": "72y57vQoO27A"
      },
      "execution_count": 69,
      "outputs": []
    },
    {
      "cell_type": "code",
      "source": [
        "Time"
      ],
      "metadata": {
        "id": "deWQfwnRPB4Y",
        "outputId": "5ce1afd0-aa6b-4e06-95e4-302377f26a5d",
        "colab": {
          "base_uri": "https://localhost:8080/",
          "height": 35
        }
      },
      "execution_count": 70,
      "outputs": [
        {
          "output_type": "execute_result",
          "data": {
            "text/plain": [
              "'12:07:19'"
            ],
            "application/vnd.google.colaboratory.intrinsic+json": {
              "type": "string"
            }
          },
          "metadata": {},
          "execution_count": 70
        }
      ]
    },
    {
      "cell_type": "code",
      "source": [
        "custom_datetime = Date + \", \" + Time"
      ],
      "metadata": {
        "id": "1a-3Pc2ePLeV"
      },
      "execution_count": 71,
      "outputs": []
    },
    {
      "cell_type": "code",
      "source": [
        "print(custom_datetime)"
      ],
      "metadata": {
        "id": "oy86d3woP5FY",
        "outputId": "20f411fb-3c0a-400f-dc23-d4cd77481dca",
        "colab": {
          "base_uri": "https://localhost:8080/"
        }
      },
      "execution_count": 72,
      "outputs": [
        {
          "output_type": "stream",
          "name": "stdout",
          "text": [
            "2025,03,04, 12:07:19\n"
          ]
        }
      ]
    }
  ]
}