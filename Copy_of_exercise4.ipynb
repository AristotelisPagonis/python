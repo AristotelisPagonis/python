{
  "nbformat": 4,
  "nbformat_minor": 0,
  "metadata": {
    "colab": {
      "provenance": [],
      "include_colab_link": true
    },
    "kernelspec": {
      "name": "python3",
      "display_name": "Python 3"
    },
    "language_info": {
      "name": "python"
    }
  },
  "cells": [
    {
      "cell_type": "markdown",
      "metadata": {
        "id": "view-in-github",
        "colab_type": "text"
      },
      "source": [
        "<a href=\"https://colab.research.google.com/github/AristotelisPagonis/python/blob/main/Copy_of_exercise4.ipynb\" target=\"_parent\"><img src=\"https://colab.research.google.com/assets/colab-badge.svg\" alt=\"Open In Colab\"/></a>"
      ]
    },
    {
      "cell_type": "markdown",
      "source": [
        "### Άσκηση 1\n",
        "\n",
        "Φτιάξτε ένα νέο κελί κώδικα ακριβώς από κάτω και:\n",
        "\n",
        "- Φτιάξτε μια λίστα με όνομα titlesL και βάλτε μέσα τους τίτλους 3 αγαπημένων σας ταινιών\n",
        "- Φτιάξτε άλλη μια λίστα με όνομα ratingsL και βάλτε μέσα το βαθμό (από το 1 έως το 10) που θα βάζατε σε καθε μια από τις ταινίες\n",
        "- Φτιάξτε μια for loop που να τρέχει για όλα τα αντικείμενα της λίστας των ταινιών και να τυπώνει το όνομά της και το βαθμό της.\n",
        "\n",
        "Hints:\n",
        "Δεδομενου ότι οι δύο λίστες έχουν τον ίδιο αριθμό αντικειμένων και η σειρά των βαθμολογιών αντιστοιχεί στη σειρά των ταινιών, μπορείτε να χρησιμοποιήσετε τον αριθμό του index και την range() σε συνδυασμό με τη len().\n",
        "\n",
        "**Γράψτε σε comment τι κάνει η κάθε γραμμή του κώδικά σας.**\n"
      ],
      "metadata": {
        "id": "QOAgGYGWvJIp"
      }
    },
    {
      "cell_type": "code",
      "source": [
        "titlesL = {\"movie1\": \"interstellar\", \"movie2\": \"django\", \"movie3\": \"batman\"} #φτιάξε μία λίστα με τις ταινίες\n",
        "ratingsL = {\"movie1\": \"10\", \"movie2\": \"8\", \"movie3\": \"9\"} #φτίαξε μία λίστα με τις βαθμολογίες\n",
        "titlesL_values = [] #φτιάξε μία κενή λίστα\n",
        "for key, value in titlesL.items(): #για κάθε μία απο τις τιμές στην λίστα titlesL\n",
        "    titlesL_values.append(value) #πάρε τις τιμές και πρόσθεσε τες στην λίστα\n",
        "ratingsL_values = [] #φτιάξε μία κενή λίστα\n",
        "for key, value in ratingsL.items(): #για κάθε μία απο τις τιμές στην λίστα ratingsL\n",
        "    ratingsL_values.append(value) #πάρε τις τιμές και πρόσθεσε τες στην λίστα\n",
        "titlesL_values\n",
        "ratingsL_values\n",
        "for i in range(len(titlesL_values)): #για κάθε αντικείμενο στο συγκεκριμένο range\n",
        "    print(titlesL_values[i], ratingsL_values[i]) #τύπωσε αυτά τα αντικέιμενα"
      ],
      "metadata": {
        "id": "wxuW62Ly2z8q",
        "outputId": "327abd31-9559-4857-b669-8dd25379a720",
        "colab": {
          "base_uri": "https://localhost:8080/"
        }
      },
      "execution_count": 3,
      "outputs": [
        {
          "output_type": "stream",
          "name": "stdout",
          "text": [
            "interstellar 10\n",
            "django 8\n",
            "batman 9\n"
          ]
        }
      ]
    },
    {
      "cell_type": "markdown",
      "source": [
        "### Άσκηση 2\n",
        "\n",
        "Φτιάξτε ένα νέο κελί κώδικα ακριβώς από κάτω και:\n",
        "\n",
        "- Φτιάξτε μια λίστα με όνομα titlesL και βάλτε μέσα τους τίτλους 3 αγαπημένων σας ταινιών\n",
        "- Φτιάξτε άλλη μια λίστα με όνομα ratingsL και βάλτε μέσα το βαθμό (από το 1 έως το 10) που θα βάζατε σε καθε μια από τις ταινίες\n",
        "\n",
        "**Αν κάνατε την προηγούμενη άσκηση, χρησιμοποιήστε τις ήδη δημιουργημένες λίστες titlesL και ratingsL - δλδ μην φτιάξετε καινούριες λίστες για το ίδιο πράγμα**\n",
        "\n",
        "- Φτιάξτε μια κενή λίστα με όνομα moviesL\n",
        "\n",
        "Φτιάξτε μια for loop που να τρέχει για όλα τα indexes της λίστας των ταινιών και να κάνει τα παρακάτω:\n",
        "- δημιουργεί ένα κενό λεξικό με όνομα movieD\n",
        "- φτιάχνει ένα item στο λεξικό με όνομα κλειδιού \"title\" και τιμή τον τίτλο που αντιστοιχεί στο εκάστοτε index της λίστας titlesL\n",
        "- φτιάχνει ένα item στο λεξικό με όνομα κλειδιού \"rating\" και τιμή το rating που αντιστοιχεδί στο εκάστοτε index της λίστας ratingsL\n",
        "- προσθέτει το λεξικό στη λίστα moviesL\n",
        "\n",
        "Τέλος, τυπώστε τη λίστα moviesL.\n",
        "\n",
        "**Γράψτε σε comment τι κάνει η κάθε γραμμή του κώδικά σας.**\n"
      ],
      "metadata": {
        "id": "TjFqUapc0JMr"
      }
    },
    {
      "cell_type": "code",
      "source": [
        "titlesL = {\"movie1\": \"interstellar\", \"movie2\": \"django\", \"movie3\": \"batman\"} #φτιάξε μία λίστα με τις ταινίες\n",
        "ratingsL = {\"movie1\": \"10\", \"movie2\": \"8\", \"movie3\": \"9\"} #φτίαξε μία λίστα με τις βαθμολογίες\n",
        "moviesL = [] #φτιάξε μία κενή λίστα\n",
        "for i in range(len(titlesL)): #για κάθε αντικείμενο στο συγκεκριμένο range\n",
        "  movieD = {} #φτιάξε ένα κενό λεξικό\n",
        "  movieD[\"title\"] = titlesL_values #προσθέστε ένα item στο λεξικό με όνομα κλειδιού \"title\" και τιμή τον τίτλο που αντιστοιχεί στο εκάστοτε index της λίστας titlesL\n",
        "  movieD[\"rating\"] = ratingsL_values #προσθέστε ένα item στο λεξικό με όνομα κλειδιού \"rating\" και τιμή το rating που αντιστοιχεδί στο εκάστοτε index της λίστας ratingsL\n",
        "  moviesL.append(movieD) #προσθέστε το λεξικό στη λίστα\n",
        "print(moviesL)"
      ],
      "metadata": {
        "id": "QVh_iorSiXrO",
        "outputId": "73e13574-6ddf-4c5c-e602-d6196ea10258",
        "colab": {
          "base_uri": "https://localhost:8080/"
        }
      },
      "execution_count": 14,
      "outputs": [
        {
          "output_type": "stream",
          "name": "stdout",
          "text": [
            "[{'title': ['interstellar', 'django', 'batman'], 'rating': ['10', '8', '9']}, {'title': ['interstellar', 'django', 'batman'], 'rating': ['10', '8', '9']}, {'title': ['interstellar', 'django', 'batman'], 'rating': ['10', '8', '9']}]\n"
          ]
        }
      ]
    },
    {
      "cell_type": "markdown",
      "source": [
        "### Άσκηση 3\n",
        "\n",
        "Γράψτε ένα προγραμματάκι που θα αθροίζει όλους τους περιττούς αριθμούς από το 1 έως και το 100 και θα τυπώνει το τελικό άθροισμα.\n",
        "\n",
        "Hints & tips:\n",
        "\n",
        "- περιττοί είναι οι αριθμοί που το υπόλοιπο της διαίρεσής τους με το 2 ΔΕΝ είναι 0 (x % 2 != 0)\n",
        "- μπορούμε αρχικά να ορίσουμε ότι το άθροισμα των περιττών αριθμών είναι 0 (sum = 0)\n",
        "- στη συνέχεια μπορούμε να φτιάξουμε μια λούπα που θα κάνει τα εξής:\n",
        "  - για κάθε αριθμό από το 1 ως και το 100\n",
        "  - αν το υπόλοιπο της διαίρεσης του αριθμού με το 2 δεν είναι 0\n",
        "  - το άθροισμα θα αυξάνεται κατά τον αριθμό\n"
      ],
      "metadata": {
        "id": "_0torHabJHFA"
      }
    },
    {
      "cell_type": "code",
      "execution_count": null,
      "metadata": {
        "id": "rKIkwJofI3Cj",
        "colab": {
          "base_uri": "https://localhost:8080/"
        },
        "outputId": "e78c9261-fc3d-4771-dfc3-c1f351f74fda"
      },
      "outputs": [
        {
          "output_type": "stream",
          "name": "stdout",
          "text": [
            "2500\n"
          ]
        }
      ],
      "source": [
        "sum = 0\n",
        "for i in range(1, 101):\n",
        "    if i % 2 != 0:\n",
        "        sum += i\n",
        "print(sum)"
      ]
    },
    {
      "cell_type": "markdown",
      "source": [
        "### Άσκηση 4\n",
        "\n",
        "Τροποποιήστε το παραπάνω πρόγραμμα έτσι ώστε, εκτός από το άθροισμα των περιττών, να υπολογίζει και να τυπώνει ΚΑΙ:\n",
        "- το πλήθος των περιττών αριθμών\n",
        "- το άθροισμα των ζυγών αριθμών στο ίδιο εύρος\n",
        "- το πλήθος των ζυγών αριθμών"
      ],
      "metadata": {
        "id": "zvsE7AANokOf"
      }
    },
    {
      "cell_type": "code",
      "source": [
        "sum_odd = 0\n",
        "count_odd = 0\n",
        "sum_even = 0\n",
        "count_even = 0\n",
        "\n",
        "for i in range(1, 101):\n",
        "    if i % 2 != 0:\n",
        "        sum_odd += i\n",
        "        count_odd += 1\n",
        "    else:\n",
        "        sum_even += i\n",
        "        count_even += 1\n",
        "\n",
        "print(\"Sum of odd numbers:\", sum_odd)\n",
        "print(\"Number of odd numbers:\", count_odd)\n",
        "print(\"Sum of even numbers:\", sum_even)\n",
        "print(\"Number of even numbers:\", count_even)\n"
      ],
      "metadata": {
        "id": "Wza4cHEzO1Y_",
        "colab": {
          "base_uri": "https://localhost:8080/"
        },
        "outputId": "4cb82e1e-35cc-4f03-c467-13de647ff0ea"
      },
      "execution_count": null,
      "outputs": [
        {
          "output_type": "stream",
          "name": "stdout",
          "text": [
            "Sum of odd numbers: 2500\n",
            "Number of odd numbers: 50\n",
            "Sum of even numbers: 2550\n",
            "Number of even numbers: 50\n"
          ]
        }
      ]
    }
  ]
}