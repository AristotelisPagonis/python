{
  "nbformat": 4,
  "nbformat_minor": 0,
  "metadata": {
    "colab": {
      "provenance": [],
      "include_colab_link": true
    },
    "kernelspec": {
      "name": "python3",
      "display_name": "Python 3"
    },
    "language_info": {
      "name": "python"
    }
  },
  "cells": [
    {
      "cell_type": "markdown",
      "metadata": {
        "id": "view-in-github",
        "colab_type": "text"
      },
      "source": [
        "<a href=\"https://colab.research.google.com/github/AristotelisPagonis/python/blob/main/Copy_of_exercise4.ipynb\" target=\"_parent\"><img src=\"https://colab.research.google.com/assets/colab-badge.svg\" alt=\"Open In Colab\"/></a>"
      ]
    },
    {
      "cell_type": "markdown",
      "source": [
        "### Άσκηση 1\n",
        "\n",
        "Φτιάξτε ένα νέο κελί κώδικα ακριβώς από κάτω και:\n",
        "\n",
        "- Φτιάξτε μια λίστα με όνομα titlesL και βάλτε μέσα τους τίτλους 3 αγαπημένων σας ταινιών\n",
        "- Φτιάξτε άλλη μια λίστα με όνομα ratingsL και βάλτε μέσα το βαθμό (από το 1 έως το 10) που θα βάζατε σε καθε μια από τις ταινίες\n",
        "- Φτιάξτε μια for loop που να τρέχει για όλα τα αντικείμενα της λίστας των ταινιών και να τυπώνει το όνομά της και το βαθμό της.\n",
        "\n",
        "Hints:\n",
        "Δεδομενου ότι οι δύο λίστες έχουν τον ίδιο αριθμό αντικειμένων και η σειρά των βαθμολογιών αντιστοιχεί στη σειρά των ταινιών, μπορείτε να χρησιμοποιήσετε τον αριθμό του index και την range() σε συνδυασμό με τη len().\n",
        "\n",
        "**Γράψτε σε comment τι κάνει η κάθε γραμμή του κώδικά σας.**\n"
      ],
      "metadata": {
        "id": "QOAgGYGWvJIp"
      }
    },
    {
      "cell_type": "code",
      "source": [
        "titlesL = {\"Movie1\": \"Django\" , \"Movie2\" : \"Interstellar\" , \"Movie3\" : \"Batman\"} #έφτιαξε μία λίστα με τις 3 ταινίες που του έθεσα\n",
        "ratingsL = {\"10\" : \"Django\" , \"9\" : \"Interstellar\" , \"8\" : \"Batman\"} #έφτιαξε μία λίστα με τον βαθμό της κάθε ταινίας\n",
        "titlesL_values = [] #φτιάξε μια κενή λίστα\n",
        "for value in titlesL.values():  #για κάθε value σε αυτή την λίστα\n",
        "    titlesL_values.append(value) #πρόσθεσε τις τιμές value σε αυτή την λίστα\n",
        "ratingsL_keys = [] #φτιάξε μία κενή λίστα\n",
        "for keys in ratingsL.keys():  #για κάθε keys στην λίστα\n",
        "    ratingsL_keys.append(keys) #πρόσθεσε τις τιμές keys\n",
        "print (titlesL_values , \",\" , ratingsL_keys) #τύπωσε τις δυο καινούργιες λίστες\n",
        "for i in range(len(titlesL_values)):\n",
        "  print (titlesL_values[i], \",\" , ratingsL_keys[i])\n"
      ],
      "metadata": {
        "id": "wxuW62Ly2z8q",
        "outputId": "0c6f3743-d3cd-408e-b0f1-9dc0af6c9e7e",
        "colab": {
          "base_uri": "https://localhost:8080/"
        }
      },
      "execution_count": null,
      "outputs": [
        {
          "output_type": "stream",
          "name": "stdout",
          "text": [
            "['Django', 'Interstellar', 'Batman'] , ['10', '9', '8']\n",
            "Django , 10\n",
            "Interstellar , 9\n",
            "Batman , 8\n"
          ]
        }
      ]
    },
    {
      "cell_type": "markdown",
      "source": [
        "### Άσκηση 2\n",
        "\n",
        "Φτιάξτε ένα νέο κελί κώδικα ακριβώς από κάτω και:\n",
        "\n",
        "- Φτιάξτε μια λίστα με όνομα titlesL και βάλτε μέσα τους τίτλους 3 αγαπημένων σας ταινιών\n",
        "- Φτιάξτε άλλη μια λίστα με όνομα ratingsL και βάλτε μέσα το βαθμό (από το 1 έως το 10) που θα βάζατε σε καθε μια από τις ταινίες\n",
        "\n",
        "**Αν κάνατε την προηγούμενη άσκηση, χρησιμοποιήστε τις ήδη δημιουργημένες λίστες titlesL και ratingsL - δλδ μην φτιάξετε καινούριες λίστες για το ίδιο πράγμα**\n",
        "\n",
        "- Φτιάξτε μια κενή λίστα με όνομα moviesL\n",
        "\n",
        "Φτιάξτε μια for loop που να τρέχει για όλα τα indexes της λίστας των ταινιών και να κάνει τα παρακάτω:\n",
        "- δημιουργεί ένα κενό λεξικό με όνομα movieD\n",
        "- φτιάχνει ένα item στο λεξικό με όνομα κλειδιού \"title\" και τιμή τον τίτλο που αντιστοιχεί στο εκάστοτε index της λίστας titlesL\n",
        "- φτιάχνει ένα item στο λεξικό με όνομα κλειδιού \"rating\" και τιμή το rating που αντιστοιχεδί στο εκάστοτε index της λίστας ratingsL\n",
        "- προσθέτει το λεξικό στη λίστα moviesL\n",
        "\n",
        "Τέλος, τυπώστε τη λίστα moviesL.\n",
        "\n",
        "**Γράψτε σε comment τι κάνει η κάθε γραμμή του κώδικά σας.**\n"
      ],
      "metadata": {
        "id": "TjFqUapc0JMr"
      }
    },
    {
      "source": [
        "titlesL = {\"Movie1\": \"Django\" , \"Movie2\" : \"Interstellar\" , \"Movie3\" : \"Batman\"}\n",
        "ratingsL = {\"10\" : \"Django\" , \"9\" : \"Interstellar\" , \"8\" : \"Batman\"}\n",
        "moviesL = []\n",
        "for i in titlesL:\n",
        "    movieD = {}\n",
        "    movieD[\"title\"] = titlesL[i]\n",
        "    rating_key = next((k for k, v in ratingsL.items() if v == titlesL[i]), None)\n",
        "    if rating_key:\n",
        "        movieD[\"rating\"] = rating_key\n",
        "    else:\n",
        "        movieD[\"rating\"] = \"N/A\"\n",
        "\n",
        "    moviesL.append(movieD)\n",
        "print (moviesL)"
      ],
      "cell_type": "code",
      "metadata": {
        "id": "TU9Y8DC3last",
        "outputId": "566e7f26-dee4-48ae-bd3e-a61be8cd90ab",
        "colab": {
          "base_uri": "https://localhost:8080/"
        }
      },
      "execution_count": null,
      "outputs": [
        {
          "output_type": "stream",
          "name": "stdout",
          "text": [
            "[{'title': 'Django', 'rating': '10'}, {'title': 'Interstellar', 'rating': '9'}, {'title': 'Batman', 'rating': '8'}]\n"
          ]
        }
      ]
    },
    {
      "cell_type": "markdown",
      "source": [
        "### Άσκηση 3\n",
        "\n",
        "Γράψτε ένα προγραμματάκι που θα αθροίζει όλους τους περιττούς αριθμούς από το 1 έως και το 100 και θα τυπώνει το τελικό άθροισμα.\n",
        "\n",
        "Hints & tips:\n",
        "\n",
        "- περιττοί είναι οι αριθμοί που το υπόλοιπο της διαίρεσής τους με το 2 ΔΕΝ είναι 0 (x % 2 != 0)\n",
        "- μπορούμε αρχικά να ορίσουμε ότι το άθροισμα των περιττών αριθμών είναι 0 (sum = 0)\n",
        "- στη συνέχεια μπορούμε να φτιάξουμε μια λούπα που θα κάνει τα εξής:\n",
        "  - για κάθε αριθμό από το 1 ως και το 100\n",
        "  - αν το υπόλοιπο της διαίρεσης του αριθμού με το 2 δεν είναι 0\n",
        "  - το άθροισμα θα αυξάνεται κατά τον αριθμό\n"
      ],
      "metadata": {
        "id": "_0torHabJHFA"
      }
    },
    {
      "cell_type": "code",
      "execution_count": 2,
      "metadata": {
        "id": "rKIkwJofI3Cj",
        "colab": {
          "base_uri": "https://localhost:8080/"
        },
        "outputId": "e78c9261-fc3d-4771-dfc3-c1f351f74fda"
      },
      "outputs": [
        {
          "output_type": "stream",
          "name": "stdout",
          "text": [
            "2500\n"
          ]
        }
      ],
      "source": [
        "sum = 0\n",
        "for i in range(1, 101):\n",
        "    if i % 2 != 0:\n",
        "        sum += i\n",
        "print(sum)"
      ]
    },
    {
      "cell_type": "markdown",
      "source": [
        "### Άσκηση 4\n",
        "\n",
        "Τροποποιήστε το παραπάνω πρόγραμμα έτσι ώστε, εκτός από το άθροισμα των περιττών, να υπολογίζει και να τυπώνει ΚΑΙ:\n",
        "- το πλήθος των περιττών αριθμών\n",
        "- το άθροισμα των ζυγών αριθμών στο ίδιο εύρος\n",
        "- το πλήθος των ζυγών αριθμών"
      ],
      "metadata": {
        "id": "zvsE7AANokOf"
      }
    },
    {
      "cell_type": "code",
      "source": [
        "sum_odd = 0\n",
        "count_odd = 0\n",
        "sum_even = 0\n",
        "count_even = 0\n",
        "\n",
        "for i in range(1, 101):\n",
        "    if i % 2 != 0:\n",
        "        sum_odd += i\n",
        "        count_odd += 1\n",
        "    else:\n",
        "        sum_even += i\n",
        "        count_even += 1\n",
        "\n",
        "print(\"Sum of odd numbers:\", sum_odd)\n",
        "print(\"Number of odd numbers:\", count_odd)\n",
        "print(\"Sum of even numbers:\", sum_even)\n",
        "print(\"Number of even numbers:\", count_even)\n"
      ],
      "metadata": {
        "id": "Wza4cHEzO1Y_",
        "colab": {
          "base_uri": "https://localhost:8080/"
        },
        "outputId": "4cb82e1e-35cc-4f03-c467-13de647ff0ea"
      },
      "execution_count": 4,
      "outputs": [
        {
          "output_type": "stream",
          "name": "stdout",
          "text": [
            "Sum of odd numbers: 2500\n",
            "Number of odd numbers: 50\n",
            "Sum of even numbers: 2550\n",
            "Number of even numbers: 50\n"
          ]
        }
      ]
    }
  ]
}